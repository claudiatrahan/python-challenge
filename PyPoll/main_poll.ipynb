{
 "cells": [
  {
   "cell_type": "code",
   "execution_count": 1,
   "metadata": {},
   "outputs": [],
   "source": [
    "#dependencies\n",
    "import os\n",
    "import csv"
   ]
  },
  {
   "cell_type": "markdown",
   "metadata": {},
   "source": [
    "The total number of votes cast\n",
    "<br>A complete list of candidates who received votes\n",
    "<br>The percentage of votes each candidate won\n",
    "<br>The total number of votes each candidate won\n",
    "<br>The winner of the election based on popular vote."
   ]
  },
  {
   "cell_type": "code",
   "execution_count": 2,
   "metadata": {},
   "outputs": [],
   "source": [
    "#Load files\n",
    "csvpath = os.path.join(\"election_data.csv\")"
   ]
  },
  {
   "cell_type": "code",
   "execution_count": 3,
   "metadata": {},
   "outputs": [],
   "source": [
    "#variables\n",
    "\n",
    "num_votes = 0\n",
    "ballots = []\n",
    "candidate_votes = 0\n",
    "total_votes = 0\n",
    "winner_votes = 0\n",
    "\n",
    "candidates = []\n",
    "all_candidate_votes = []"
   ]
  },
  {
   "cell_type": "code",
   "execution_count": 4,
   "metadata": {},
   "outputs": [
    {
     "name": "stdout",
     "output_type": "stream",
     "text": [
      "Election Results\n",
      "----------------------------\n",
      "Total Votes: 3521001\n",
      "----------------------------\n",
      "Khan: 63.0%  (2218231)\n",
      "Correy: 20.0%  (704200)\n",
      "Li: 14.0%  (492940)\n",
      "O'Tooley: 3.0%  (105630)\n",
      "----------------------------\n",
      "Winner: Khan\n",
      "----------------------------\n"
     ]
    }
   ],
   "source": [
    "#reading csv file and parse into lists\n",
    "#read csv file\n",
    "with open(csvpath, newline='') as election_file:\n",
    "    reader = csv.reader(election_file, delimiter=',')\n",
    "    csv_header = next(reader)\n",
    "#The Loop\n",
    "    for row in reader:\n",
    "        #calculates total votes\n",
    "        total_votes += 1\n",
    "        #person voted for\n",
    "        candidate = row[2]\n",
    "        #if candidate has tally, add to ballot list\n",
    "        if candidate in candidates:\n",
    "            candidate_index = candidates.index(candidate)\n",
    "            ballots[candidate_index] = ballots[candidate_index] + 1\n",
    "        #if candidate doesn't have tally, add name to list of candidates and start tally at one\n",
    "        else:\n",
    "            candidates.append(candidate)\n",
    "            ballots.append(1)\n",
    "            \n",
    "#for each candidate in candidates calculate the percentages            \n",
    "candidate_percentages = []\n",
    "most_votes = 0\n",
    "for i in range(len(candidates)):\n",
    "    candidate_percentage = round(ballots[i]/total_votes*100,4)\n",
    "    candidate_percentages.append(candidate_percentage)\n",
    "    if ballots[i] > most_votes:\n",
    "        most_votes = ballots[i]\n",
    "        win_index = i\n",
    "winner = candidates[win_index]\n",
    "\n",
    "#print results\n",
    "print('Election Results')\n",
    "print('----------------------------')\n",
    "print(f'Total Votes: {total_votes}')\n",
    "print('----------------------------')\n",
    "for i in range(len(candidates)):\n",
    "    print(f'{candidates[i]}: {candidate_percentages[i]}%  ({ballots[i]})')\n",
    "print('----------------------------')\n",
    "print(f'Winner: {winner}')\n",
    "print('----------------------------')\n",
    "\n",
    "#output financial summary\n",
    "output_path = os.path.join('PyPoll','election_summary.txt')\n",
    "with open(output_path,\"w\") as fh:\n",
    "    fh.write('Election Results\\n')\n",
    "    fh.write('----------------------------\\n')\n",
    "    fh.write(f'Total Votes: {total_votes}\\n')\n",
    "    fh.write('----------------------------\\n')\n",
    "    for i in range(len(candidates)):\n",
    "        fh.write(f'{candidates[i]}: {candidate_percentages[i]}%  ({ballots[i]})\\n')\n",
    "    fh.write('----------------------------\\n')\n",
    "    fh.write(f'Winner: {winner}\\n')\n",
    "    fh.write('----------------------------\\n')"
   ]
  },
  {
   "cell_type": "code",
   "execution_count": null,
   "metadata": {},
   "outputs": [],
   "source": []
  }
 ],
 "metadata": {
  "kernelspec": {
   "display_name": "Python 3",
   "language": "python",
   "name": "python3"
  },
  "language_info": {
   "codemirror_mode": {
    "name": "ipython",
    "version": 3
   },
   "file_extension": ".py",
   "mimetype": "text/x-python",
   "name": "python",
   "nbconvert_exporter": "python",
   "pygments_lexer": "ipython3",
   "version": "3.7.4"
  }
 },
 "nbformat": 4,
 "nbformat_minor": 2
}
